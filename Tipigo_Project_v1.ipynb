{
  "nbformat": 4,
  "nbformat_minor": 0,
  "metadata": {
    "colab": {
      "provenance": [],
      "authorship_tag": "ABX9TyPkD0WgylGAjZmSmsNtstty",
      "include_colab_link": true
    },
    "kernelspec": {
      "name": "python3",
      "display_name": "Python 3"
    },
    "language_info": {
      "name": "python"
    }
  },
  "cells": [
    {
      "cell_type": "markdown",
      "metadata": {
        "id": "view-in-github",
        "colab_type": "text"
      },
      "source": [
        "<a href=\"https://colab.research.google.com/github/Savin97/tipigoProject2025/blob/main/Tipigo_Project_v1.ipynb\" target=\"_parent\"><img src=\"https://colab.research.google.com/assets/colab-badge.svg\" alt=\"Open In Colab\"/></a>"
      ]
    },
    {
      "cell_type": "code",
      "execution_count": 1,
      "metadata": {
        "id": "_-6pzNZ2mToW"
      },
      "outputs": [],
      "source": [
        "import requests\n",
        "import pandas as pd\n",
        "from datetime import timedelta"
      ]
    },
    {
      "cell_type": "code",
      "source": [
        "api_key = \"S95EWM44XNYS7XZE\"\n",
        "symbol = \"AAPL\"\n",
        "\n",
        "url = f\"https://www.alphavantage.co/query?function=EARNINGS&symbol={symbol}&apikey={api_key}\"\n",
        "\n",
        "response = requests.get(url)\n",
        "data = response.json()\n",
        "print(data)"
      ],
      "metadata": {
        "id": "lnDTP21XZt3g",
        "colab": {
          "base_uri": "https://localhost:8080/"
        },
        "outputId": "bd3dc10c-52b7-43a4-ec43-c6eec6fa4388"
      },
      "execution_count": 2,
      "outputs": [
        {
          "output_type": "stream",
          "name": "stdout",
          "text": [
            "{'symbol': 'AAPL', 'annualEarnings': [{'fiscalDateEnding': '2025-03-31', 'reportedEPS': '4.05'}, {'fiscalDateEnding': '2024-09-30', 'reportedEPS': '6.08'}, {'fiscalDateEnding': '2023-09-30', 'reportedEPS': '6.12'}, {'fiscalDateEnding': '2022-09-30', 'reportedEPS': '6.11'}, {'fiscalDateEnding': '2021-09-30', 'reportedEPS': '5.62'}, {'fiscalDateEnding': '2020-09-30', 'reportedEPS': '3.27'}, {'fiscalDateEnding': '2019-09-30', 'reportedEPS': '2.98'}, {'fiscalDateEnding': '2018-09-30', 'reportedEPS': '2.97'}, {'fiscalDateEnding': '2017-09-30', 'reportedEPS': '2.3'}, {'fiscalDateEnding': '2016-09-30', 'reportedEPS': '2.0675'}, {'fiscalDateEnding': '2015-09-30', 'reportedEPS': '2.3'}, {'fiscalDateEnding': '2014-09-30', 'reportedEPS': '1.6075'}, {'fiscalDateEnding': '2013-09-30', 'reportedEPS': '1.415'}, {'fiscalDateEnding': '2012-09-30', 'reportedEPS': '1.5775'}, {'fiscalDateEnding': '2011-09-30', 'reportedEPS': '0.9875'}, {'fiscalDateEnding': '2010-09-30', 'reportedEPS': '0.54'}, {'fiscalDateEnding': '2009-09-30', 'reportedEPS': '0.2225'}, {'fiscalDateEnding': '2008-09-30', 'reportedEPS': '0.19'}, {'fiscalDateEnding': '2007-09-30', 'reportedEPS': '0.14'}, {'fiscalDateEnding': '2006-09-30', 'reportedEPS': '0.08'}, {'fiscalDateEnding': '2005-09-30', 'reportedEPS': '0.04'}, {'fiscalDateEnding': '2004-09-30', 'reportedEPS': '0.05'}, {'fiscalDateEnding': '2003-09-30', 'reportedEPS': '0.0112'}, {'fiscalDateEnding': '2002-09-30', 'reportedEPS': '0.0198'}, {'fiscalDateEnding': '2001-09-30', 'reportedEPS': '0.0067'}, {'fiscalDateEnding': '2000-09-30', 'reportedEPS': '0.04'}, {'fiscalDateEnding': '1999-09-30', 'reportedEPS': '0.05'}, {'fiscalDateEnding': '1998-09-30', 'reportedEPS': '0.04'}, {'fiscalDateEnding': '1997-09-30', 'reportedEPS': '-0.1114'}, {'fiscalDateEnding': '1996-09-30', 'reportedEPS': '-0.1082'}], 'quarterlyEarnings': [{'fiscalDateEnding': '2025-03-31', 'reportedDate': '2025-05-02', 'reportedEPS': '1.65', 'estimatedEPS': '1.63', 'surprise': '0.02', 'surprisePercentage': '1.227', 'reportTime': 'pre-market'}, {'fiscalDateEnding': '2024-12-31', 'reportedDate': '2025-01-31', 'reportedEPS': '2.4', 'estimatedEPS': '2.35', 'surprise': '0.05', 'surprisePercentage': '2.1277', 'reportTime': 'pre-market'}, {'fiscalDateEnding': '2024-09-30', 'reportedDate': '2024-11-01', 'reportedEPS': '0.97', 'estimatedEPS': '1.6', 'surprise': '-0.63', 'surprisePercentage': '-39.375', 'reportTime': 'pre-market'}, {'fiscalDateEnding': '2024-06-30', 'reportedDate': '2024-08-02', 'reportedEPS': '1.4', 'estimatedEPS': '1.35', 'surprise': '0.05', 'surprisePercentage': '3.7037', 'reportTime': 'pre-market'}, {'fiscalDateEnding': '2024-03-31', 'reportedDate': '2024-05-03', 'reportedEPS': '1.53', 'estimatedEPS': '1.5', 'surprise': '0.03', 'surprisePercentage': '2', 'reportTime': 'pre-market'}, {'fiscalDateEnding': '2023-12-31', 'reportedDate': '2024-02-02', 'reportedEPS': '2.18', 'estimatedEPS': '2.1', 'surprise': '0.08', 'surprisePercentage': '3.8095', 'reportTime': 'pre-market'}, {'fiscalDateEnding': '2023-09-30', 'reportedDate': '2023-11-03', 'reportedEPS': '1.46', 'estimatedEPS': '1.39', 'surprise': '0.07', 'surprisePercentage': '5.036', 'reportTime': 'pre-market'}, {'fiscalDateEnding': '2023-06-30', 'reportedDate': '2023-08-04', 'reportedEPS': '1.26', 'estimatedEPS': '1.19', 'surprise': '0.07', 'surprisePercentage': '5.8824', 'reportTime': 'pre-market'}, {'fiscalDateEnding': '2023-03-31', 'reportedDate': '2023-05-05', 'reportedEPS': '1.52', 'estimatedEPS': '1.43', 'surprise': '0.09', 'surprisePercentage': '6.2937', 'reportTime': 'pre-market'}, {'fiscalDateEnding': '2022-12-31', 'reportedDate': '2023-02-03', 'reportedEPS': '1.88', 'estimatedEPS': '1.94', 'surprise': '-0.06', 'surprisePercentage': '-3.0928', 'reportTime': 'pre-market'}, {'fiscalDateEnding': '2022-09-30', 'reportedDate': '2022-10-28', 'reportedEPS': '1.29', 'estimatedEPS': '1.27', 'surprise': '0.02', 'surprisePercentage': '1.5748', 'reportTime': 'pre-market'}, {'fiscalDateEnding': '2022-06-30', 'reportedDate': '2022-07-29', 'reportedEPS': '1.2', 'estimatedEPS': '1.16', 'surprise': '0.04', 'surprisePercentage': '3.4483', 'reportTime': 'pre-market'}, {'fiscalDateEnding': '2022-03-31', 'reportedDate': '2022-04-29', 'reportedEPS': '1.52', 'estimatedEPS': '1.43', 'surprise': '0.09', 'surprisePercentage': '6.2937', 'reportTime': 'pre-market'}, {'fiscalDateEnding': '2021-12-31', 'reportedDate': '2022-01-28', 'reportedEPS': '2.1', 'estimatedEPS': '1.89', 'surprise': '0.21', 'surprisePercentage': '11.1111', 'reportTime': 'pre-market'}, {'fiscalDateEnding': '2021-09-30', 'reportedDate': '2021-10-29', 'reportedEPS': '1.24', 'estimatedEPS': '1.24', 'surprise': '0', 'surprisePercentage': '0', 'reportTime': 'pre-market'}, {'fiscalDateEnding': '2021-06-30', 'reportedDate': '2021-07-28', 'reportedEPS': '1.3', 'estimatedEPS': '1.01', 'surprise': '0.29', 'surprisePercentage': '28.7129', 'reportTime': 'pre-market'}, {'fiscalDateEnding': '2021-03-31', 'reportedDate': '2021-04-29', 'reportedEPS': '1.4', 'estimatedEPS': '0.99', 'surprise': '0.41', 'surprisePercentage': '41.4141', 'reportTime': 'pre-market'}, {'fiscalDateEnding': '2020-12-31', 'reportedDate': '2021-01-28', 'reportedEPS': '1.68', 'estimatedEPS': '1.41', 'surprise': '0.27', 'surprisePercentage': '19.1489', 'reportTime': 'pre-market'}, {'fiscalDateEnding': '2020-09-30', 'reportedDate': '2020-10-30', 'reportedEPS': '0.73', 'estimatedEPS': '0.7', 'surprise': '0.03', 'surprisePercentage': '4.2857', 'reportTime': 'pre-market'}, {'fiscalDateEnding': '2020-06-30', 'reportedDate': '2020-07-30', 'reportedEPS': '0.65', 'estimatedEPS': '0.51', 'surprise': '0.14', 'surprisePercentage': '27.451', 'reportTime': 'post-market'}, {'fiscalDateEnding': '2020-03-31', 'reportedDate': '2020-04-30', 'reportedEPS': '0.64', 'estimatedEPS': '0.56', 'surprise': '0.08', 'surprisePercentage': '14.2857', 'reportTime': 'post-market'}, {'fiscalDateEnding': '2019-12-31', 'reportedDate': '2020-01-28', 'reportedEPS': '1.25', 'estimatedEPS': '1.14', 'surprise': '0.11', 'surprisePercentage': '9.6491', 'reportTime': 'post-market'}, {'fiscalDateEnding': '2019-09-30', 'reportedDate': '2019-10-30', 'reportedEPS': '0.76', 'estimatedEPS': '0.71', 'surprise': '0.05', 'surprisePercentage': '7.0423', 'reportTime': 'post-market'}, {'fiscalDateEnding': '2019-06-30', 'reportedDate': '2019-07-30', 'reportedEPS': '0.55', 'estimatedEPS': '0.53', 'surprise': '0.02', 'surprisePercentage': '3.7736', 'reportTime': 'post-market'}, {'fiscalDateEnding': '2019-03-31', 'reportedDate': '2019-04-30', 'reportedEPS': '0.62', 'estimatedEPS': '0.59', 'surprise': '0.03', 'surprisePercentage': '5.0847', 'reportTime': 'post-market'}, {'fiscalDateEnding': '2018-12-31', 'reportedDate': '2019-01-29', 'reportedEPS': '1.05', 'estimatedEPS': '1.04', 'surprise': '0.01', 'surprisePercentage': '0.9615', 'reportTime': 'post-market'}, {'fiscalDateEnding': '2018-09-30', 'reportedDate': '2018-11-01', 'reportedEPS': '0.73', 'estimatedEPS': '0.7', 'surprise': '0.03', 'surprisePercentage': '4.2857', 'reportTime': 'post-market'}, {'fiscalDateEnding': '2018-06-30', 'reportedDate': '2018-07-31', 'reportedEPS': '0.585', 'estimatedEPS': '0.545', 'surprise': '0.04', 'surprisePercentage': '7.3394', 'reportTime': 'post-market'}, {'fiscalDateEnding': '2018-03-31', 'reportedDate': '2018-05-01', 'reportedEPS': '0.6825', 'estimatedEPS': '0.6725', 'surprise': '0.01', 'surprisePercentage': '1.487', 'reportTime': 'post-market'}, {'fiscalDateEnding': '2017-12-31', 'reportedDate': '2018-02-01', 'reportedEPS': '0.9725', 'estimatedEPS': '0.965', 'surprise': '0.0075', 'surprisePercentage': '0.7772', 'reportTime': 'post-market'}, {'fiscalDateEnding': '2017-09-30', 'reportedDate': '2017-11-02', 'reportedEPS': '0.5175', 'estimatedEPS': '0.4675', 'surprise': '0.05', 'surprisePercentage': '10.6952', 'reportTime': 'post-market'}, {'fiscalDateEnding': '2017-06-30', 'reportedDate': '2017-08-01', 'reportedEPS': '0.4175', 'estimatedEPS': '0.3925', 'surprise': '0.025', 'surprisePercentage': '6.3694', 'reportTime': 'post-market'}, {'fiscalDateEnding': '2017-03-31', 'reportedDate': '2017-05-02', 'reportedEPS': '0.525', 'estimatedEPS': '0.505', 'surprise': '0.02', 'surprisePercentage': '3.9604', 'reportTime': 'post-market'}, {'fiscalDateEnding': '2016-12-31', 'reportedDate': '2017-01-31', 'reportedEPS': '0.84', 'estimatedEPS': '0.8025', 'surprise': '0.0375', 'surprisePercentage': '4.6729', 'reportTime': 'post-market'}, {'fiscalDateEnding': '2016-09-30', 'reportedDate': '2016-10-25', 'reportedEPS': '0.4175', 'estimatedEPS': '0.415', 'surprise': '0.0025', 'surprisePercentage': '0.6024', 'reportTime': 'post-market'}, {'fiscalDateEnding': '2016-06-30', 'reportedDate': '2016-07-26', 'reportedEPS': '0.355', 'estimatedEPS': '0.345', 'surprise': '0.01', 'surprisePercentage': '2.8986', 'reportTime': 'post-market'}, {'fiscalDateEnding': '2016-03-31', 'reportedDate': '2016-04-26', 'reportedEPS': '0.475', 'estimatedEPS': '0.5', 'surprise': '-0.025', 'surprisePercentage': '-5', 'reportTime': 'post-market'}, {'fiscalDateEnding': '2015-12-31', 'reportedDate': '2016-01-26', 'reportedEPS': '0.82', 'estimatedEPS': '0.8075', 'surprise': '0.0125', 'surprisePercentage': '1.548', 'reportTime': 'post-market'}, {'fiscalDateEnding': '2015-09-30', 'reportedDate': '2015-10-27', 'reportedEPS': '0.49', 'estimatedEPS': '0.47', 'surprise': '0.02', 'surprisePercentage': '4.2553', 'reportTime': 'post-market'}, {'fiscalDateEnding': '2015-06-30', 'reportedDate': '2015-07-21', 'reportedEPS': '0.4625', 'estimatedEPS': '0.4525', 'surprise': '0.01', 'surprisePercentage': '2.2099', 'reportTime': 'post-market'}, {'fiscalDateEnding': '2015-03-31', 'reportedDate': '2015-04-27', 'reportedEPS': '0.5825', 'estimatedEPS': '0.54', 'surprise': '0.0425', 'surprisePercentage': '7.8704', 'reportTime': 'post-market'}, {'fiscalDateEnding': '2014-12-31', 'reportedDate': '2015-01-27', 'reportedEPS': '0.765', 'estimatedEPS': '0.65', 'surprise': '0.115', 'surprisePercentage': '17.6923', 'reportTime': 'post-market'}, {'fiscalDateEnding': '2014-09-30', 'reportedDate': '2014-10-20', 'reportedEPS': '0.355', 'estimatedEPS': '0.3275', 'surprise': '0.0275', 'surprisePercentage': '8.3969', 'reportTime': 'post-market'}, {'fiscalDateEnding': '2014-06-30', 'reportedDate': '2014-07-22', 'reportedEPS': '0.32', 'estimatedEPS': '0.3075', 'surprise': '0.0125', 'surprisePercentage': '4.065', 'reportTime': 'post-market'}, {'fiscalDateEnding': '2014-03-31', 'reportedDate': '2014-04-23', 'reportedEPS': '0.415', 'estimatedEPS': '0.365', 'surprise': '0.05', 'surprisePercentage': '13.6986', 'reportTime': 'post-market'}, {'fiscalDateEnding': '2013-12-31', 'reportedDate': '2014-01-27', 'reportedEPS': '0.5175', 'estimatedEPS': '0.5025', 'surprise': '0.015', 'surprisePercentage': '2.9851', 'reportTime': 'post-market'}, {'fiscalDateEnding': '2013-09-30', 'reportedDate': '2013-10-28', 'reportedEPS': '0.295', 'estimatedEPS': '0.285', 'surprise': '0.01', 'surprisePercentage': '3.5088', 'reportTime': 'post-market'}, {'fiscalDateEnding': '2013-06-30', 'reportedDate': '2013-07-23', 'reportedEPS': '0.2675', 'estimatedEPS': '0.2625', 'surprise': '0.005', 'surprisePercentage': '1.9048', 'reportTime': 'post-market'}, {'fiscalDateEnding': '2013-03-31', 'reportedDate': '2013-04-23', 'reportedEPS': '0.36', 'estimatedEPS': '0.3575', 'surprise': '0.0025', 'surprisePercentage': '0.6993', 'reportTime': 'post-market'}, {'fiscalDateEnding': '2012-12-31', 'reportedDate': '2013-01-23', 'reportedEPS': '0.4925', 'estimatedEPS': '0.48', 'surprise': '0.0125', 'surprisePercentage': '2.6042', 'reportTime': 'post-market'}, {'fiscalDateEnding': '2012-09-30', 'reportedDate': '2012-10-25', 'reportedEPS': '0.31', 'estimatedEPS': '0.3125', 'surprise': '-0.0025', 'surprisePercentage': '-0.8', 'reportTime': 'post-market'}, {'fiscalDateEnding': '2012-06-30', 'reportedDate': '2012-07-24', 'reportedEPS': '0.3325', 'estimatedEPS': '0.37', 'surprise': '-0.0375', 'surprisePercentage': '-10.1351', 'reportTime': 'post-market'}, {'fiscalDateEnding': '2012-03-31', 'reportedDate': '2012-04-24', 'reportedEPS': '0.44', 'estimatedEPS': '0.3575', 'surprise': '0.0825', 'surprisePercentage': '23.0769', 'reportTime': 'post-market'}, {'fiscalDateEnding': '2011-12-31', 'reportedDate': '2012-01-24', 'reportedEPS': '0.495', 'estimatedEPS': '0.3625', 'surprise': '0.1325', 'surprisePercentage': '36.5517', 'reportTime': 'post-market'}, {'fiscalDateEnding': '2011-09-30', 'reportedDate': '2011-10-18', 'reportedEPS': '0.2525', 'estimatedEPS': '0.265', 'surprise': '-0.0125', 'surprisePercentage': '-4.717', 'reportTime': 'post-market'}, {'fiscalDateEnding': '2011-06-30', 'reportedDate': '2011-07-19', 'reportedEPS': '0.2775', 'estimatedEPS': '0.2075', 'surprise': '0.07', 'surprisePercentage': '33.7349', 'reportTime': 'post-market'}, {'fiscalDateEnding': '2011-03-31', 'reportedDate': '2011-04-20', 'reportedEPS': '0.2275', 'estimatedEPS': '0.1925', 'surprise': '0.035', 'surprisePercentage': '18.1818', 'reportTime': 'post-market'}, {'fiscalDateEnding': '2010-12-31', 'reportedDate': '2011-01-18', 'reportedEPS': '0.23', 'estimatedEPS': '0.1925', 'surprise': '0.0375', 'surprisePercentage': '19.4805', 'reportTime': 'post-market'}, {'fiscalDateEnding': '2010-09-30', 'reportedDate': '2010-10-18', 'reportedEPS': '0.165', 'estimatedEPS': '0.145', 'surprise': '0.02', 'surprisePercentage': '13.7931', 'reportTime': 'post-market'}, {'fiscalDateEnding': '2010-06-30', 'reportedDate': '2010-07-20', 'reportedEPS': '0.125', 'estimatedEPS': '0.11', 'surprise': '0.015', 'surprisePercentage': '13.6364', 'reportTime': 'post-market'}, {'fiscalDateEnding': '2010-03-31', 'reportedDate': '2010-04-20', 'reportedEPS': '0.12', 'estimatedEPS': '0.0875', 'surprise': '0.0325', 'surprisePercentage': '37.1429', 'reportTime': 'post-market'}, {'fiscalDateEnding': '2009-12-31', 'reportedDate': '2010-01-25', 'reportedEPS': '0.13', 'estimatedEPS': '0.075', 'surprise': '0.055', 'surprisePercentage': '73.3333', 'reportTime': 'post-market'}, {'fiscalDateEnding': '2009-09-30', 'reportedDate': '2009-10-19', 'reportedEPS': '0.065', 'estimatedEPS': '0.05', 'surprise': '0.015', 'surprisePercentage': '30', 'reportTime': 'post-market'}, {'fiscalDateEnding': '2009-06-30', 'reportedDate': '2009-07-21', 'reportedEPS': '0.0475', 'estimatedEPS': '0.0425', 'surprise': '0.005', 'surprisePercentage': '11.7647', 'reportTime': 'post-market'}, {'fiscalDateEnding': '2009-03-31', 'reportedDate': '2009-04-22', 'reportedEPS': '0.0475', 'estimatedEPS': '0.04', 'surprise': '0.0075', 'surprisePercentage': '18.75', 'reportTime': 'post-market'}, {'fiscalDateEnding': '2008-12-31', 'reportedDate': '2009-01-21', 'reportedEPS': '0.0625', 'estimatedEPS': '0.05', 'surprise': '0.0125', 'surprisePercentage': '25', 'reportTime': 'post-market'}, {'fiscalDateEnding': '2008-09-30', 'reportedDate': '2008-10-21', 'reportedEPS': '0.045', 'estimatedEPS': '0.04', 'surprise': '0.005', 'surprisePercentage': '12.5', 'reportTime': 'post-market'}, {'fiscalDateEnding': '2008-06-30', 'reportedDate': '2008-07-21', 'reportedEPS': '0.0425', 'estimatedEPS': '0.0375', 'surprise': '0.005', 'surprisePercentage': '13.3333', 'reportTime': 'post-market'}, {'fiscalDateEnding': '2008-03-31', 'reportedDate': '2008-04-23', 'reportedEPS': '0.0425', 'estimatedEPS': '0.0375', 'surprise': '0.005', 'surprisePercentage': '13.3333', 'reportTime': 'post-market'}, {'fiscalDateEnding': '2007-12-31', 'reportedDate': '2008-01-22', 'reportedEPS': '0.06', 'estimatedEPS': '0.06', 'surprise': '0', 'surprisePercentage': '0', 'reportTime': 'pre-market'}, {'fiscalDateEnding': '2007-09-30', 'reportedDate': '2007-10-22', 'reportedEPS': '0.04', 'estimatedEPS': '0.03', 'surprise': '0.01', 'surprisePercentage': '33.3333', 'reportTime': 'pre-market'}, {'fiscalDateEnding': '2007-06-30', 'reportedDate': '2007-07-25', 'reportedEPS': '0.03', 'estimatedEPS': '0.03', 'surprise': '0', 'surprisePercentage': '0', 'reportTime': 'pre-market'}, {'fiscalDateEnding': '2007-03-31', 'reportedDate': '2007-04-25', 'reportedEPS': '0.03', 'estimatedEPS': '0.02', 'surprise': '0.01', 'surprisePercentage': '50', 'reportTime': 'pre-market'}, {'fiscalDateEnding': '2006-12-31', 'reportedDate': '2007-01-17', 'reportedEPS': '0.04', 'estimatedEPS': '0.03', 'surprise': '0.01', 'surprisePercentage': '33.3333', 'reportTime': 'pre-market'}, {'fiscalDateEnding': '2006-09-30', 'reportedDate': '2006-10-18', 'reportedEPS': '0.02', 'estimatedEPS': '0.02', 'surprise': '0', 'surprisePercentage': '0', 'reportTime': 'pre-market'}, {'fiscalDateEnding': '2006-06-30', 'reportedDate': '2006-07-19', 'reportedEPS': '0.02', 'estimatedEPS': '0.02', 'surprise': '0', 'surprisePercentage': '0', 'reportTime': 'pre-market'}, {'fiscalDateEnding': '2006-03-31', 'reportedDate': '2006-04-19', 'reportedEPS': '0.02', 'estimatedEPS': '0.02', 'surprise': '0', 'surprisePercentage': '0', 'reportTime': 'pre-market'}, {'fiscalDateEnding': '2005-12-31', 'reportedDate': '2006-01-18', 'reportedEPS': '0.02', 'estimatedEPS': '0.02', 'surprise': '0', 'surprisePercentage': '0', 'reportTime': 'pre-market'}, {'fiscalDateEnding': '2005-09-30', 'reportedDate': '2005-10-11', 'reportedEPS': '0.01', 'estimatedEPS': '0.01', 'surprise': '0', 'surprisePercentage': '0', 'reportTime': 'pre-market'}, {'fiscalDateEnding': '2005-06-30', 'reportedDate': '2005-07-13', 'reportedEPS': '0.01', 'estimatedEPS': '0.01', 'surprise': '0', 'surprisePercentage': '0', 'reportTime': 'pre-market'}, {'fiscalDateEnding': '2005-03-31', 'reportedDate': '2005-04-13', 'reportedEPS': '0.01', 'estimatedEPS': '0.01', 'surprise': '0', 'surprisePercentage': '0', 'reportTime': 'pre-market'}, {'fiscalDateEnding': '2004-12-31', 'reportedDate': '2005-01-12', 'reportedEPS': '0.01', 'estimatedEPS': '0.01', 'surprise': '0', 'surprisePercentage': '0', 'reportTime': 'pre-market'}, {'fiscalDateEnding': '2004-09-30', 'reportedDate': '2004-10-13', 'reportedEPS': '0.02', 'estimatedEPS': '0.01', 'surprise': '0.01', 'surprisePercentage': '100', 'reportTime': 'pre-market'}, {'fiscalDateEnding': '2004-06-30', 'reportedDate': '2004-07-14', 'reportedEPS': '0.01', 'estimatedEPS': '0.01', 'surprise': '0', 'surprisePercentage': '0', 'reportTime': 'pre-market'}, {'fiscalDateEnding': '2004-03-31', 'reportedDate': '2004-04-14', 'reportedEPS': '0.01', 'estimatedEPS': '0.01', 'surprise': '0', 'surprisePercentage': '0', 'reportTime': 'pre-market'}, {'fiscalDateEnding': '2003-12-31', 'reportedDate': '2004-01-14', 'reportedEPS': '0.01', 'estimatedEPS': '0.01', 'surprise': '0', 'surprisePercentage': '0', 'reportTime': 'pre-market'}, {'fiscalDateEnding': '2003-09-30', 'reportedDate': '2003-10-15', 'reportedEPS': '0.01', 'estimatedEPS': 'None', 'surprise': '0', 'surprisePercentage': 'None', 'reportTime': 'pre-market'}, {'fiscalDateEnding': '2003-06-30', 'reportedDate': '2003-07-16', 'reportedEPS': '0.0009', 'estimatedEPS': 'None', 'surprise': '0', 'surprisePercentage': 'None', 'reportTime': 'pre-market'}, {'fiscalDateEnding': '2003-03-31', 'reportedDate': '2003-04-16', 'reportedEPS': '0.0007', 'estimatedEPS': 'None', 'surprise': '0', 'surprisePercentage': 'None', 'reportTime': 'pre-market'}, {'fiscalDateEnding': '2002-12-31', 'reportedDate': '2003-01-15', 'reportedEPS': '-0.0004', 'estimatedEPS': 'None', 'surprise': '0', 'surprisePercentage': 'None', 'reportTime': 'pre-market'}, {'fiscalDateEnding': '2002-09-30', 'reportedDate': '2002-10-16', 'reportedEPS': '-0.0022', 'estimatedEPS': 'None', 'surprise': '0', 'surprisePercentage': 'None', 'reportTime': 'pre-market'}, {'fiscalDateEnding': '2002-06-30', 'reportedDate': '2002-07-16', 'reportedEPS': '0.01', 'estimatedEPS': '0.01', 'surprise': '0', 'surprisePercentage': '0', 'reportTime': 'pre-market'}, {'fiscalDateEnding': '2002-03-31', 'reportedDate': '2002-04-18', 'reportedEPS': '0.002', 'estimatedEPS': 'None', 'surprise': '0', 'surprisePercentage': 'None', 'reportTime': 'pre-market'}, {'fiscalDateEnding': '2001-12-31', 'reportedDate': '2002-01-16', 'reportedEPS': '0.01', 'estimatedEPS': '0.01', 'surprise': '0', 'surprisePercentage': '0', 'reportTime': 'pre-market'}, {'fiscalDateEnding': '2001-09-30', 'reportedDate': '2001-10-18', 'reportedEPS': '0.0034', 'estimatedEPS': 'None', 'surprise': '0', 'surprisePercentage': 'None', 'reportTime': 'pre-market'}, {'fiscalDateEnding': '2001-06-30', 'reportedDate': '2001-07-18', 'reportedEPS': '0.003', 'estimatedEPS': 'None', 'surprise': '0', 'surprisePercentage': 'None', 'reportTime': 'pre-market'}, {'fiscalDateEnding': '2001-03-31', 'reportedDate': '2001-04-18', 'reportedEPS': '0.01', 'estimatedEPS': 'None', 'surprise': '0', 'surprisePercentage': 'None', 'reportTime': 'pre-market'}, {'fiscalDateEnding': '2000-12-31', 'reportedDate': '2000-12-31', 'reportedEPS': '-0.0097', 'estimatedEPS': 'None', 'surprise': '0', 'surprisePercentage': 'None', 'reportTime': 'pre-market'}, {'fiscalDateEnding': '2000-09-30', 'reportedDate': '2000-10-18', 'reportedEPS': '0.01', 'estimatedEPS': '0.01', 'surprise': '0', 'surprisePercentage': '0', 'reportTime': 'pre-market'}, {'fiscalDateEnding': '2000-06-30', 'reportedDate': '2000-07-18', 'reportedEPS': '0.01', 'estimatedEPS': '0.01', 'surprise': '0', 'surprisePercentage': '0', 'reportTime': 'pre-market'}, {'fiscalDateEnding': '2000-03-31', 'reportedDate': '2000-04-19', 'reportedEPS': '0.01', 'estimatedEPS': '0.01', 'surprise': '0', 'surprisePercentage': '0', 'reportTime': 'pre-market'}, {'fiscalDateEnding': '1999-12-31', 'reportedDate': '2000-01-19', 'reportedEPS': '0.01', 'estimatedEPS': '0.01', 'surprise': '0', 'surprisePercentage': '0', 'reportTime': 'pre-market'}, {'fiscalDateEnding': '1999-09-30', 'reportedDate': '1999-10-13', 'reportedEPS': '0.02', 'estimatedEPS': '0.02', 'surprise': '0', 'surprisePercentage': '0', 'reportTime': 'pre-market'}, {'fiscalDateEnding': '1999-06-30', 'reportedDate': '1999-07-14', 'reportedEPS': '0.01', 'estimatedEPS': '0.01', 'surprise': '0', 'surprisePercentage': '0', 'reportTime': 'pre-market'}, {'fiscalDateEnding': '1999-03-31', 'reportedDate': '1999-04-14', 'reportedEPS': '0.01', 'estimatedEPS': '0.01', 'surprise': '0', 'surprisePercentage': '0', 'reportTime': 'pre-market'}, {'fiscalDateEnding': '1998-12-31', 'reportedDate': '1999-01-13', 'reportedEPS': '0.01', 'estimatedEPS': '0.01', 'surprise': '0', 'surprisePercentage': '0', 'reportTime': 'pre-market'}, {'fiscalDateEnding': '1998-09-30', 'reportedDate': '1998-10-14', 'reportedEPS': '0.01', 'estimatedEPS': '0.02', 'surprise': '-0.01', 'surprisePercentage': '-50', 'reportTime': 'pre-market'}, {'fiscalDateEnding': '1998-06-30', 'reportedDate': '1998-07-15', 'reportedEPS': '0.01', 'estimatedEPS': '0.01', 'surprise': '0', 'surprisePercentage': '0', 'reportTime': 'pre-market'}, {'fiscalDateEnding': '1998-03-31', 'reportedDate': '1998-04-15', 'reportedEPS': '0.01', 'estimatedEPS': '0.01', 'surprise': '0', 'surprisePercentage': '0', 'reportTime': 'pre-market'}, {'fiscalDateEnding': '1997-12-31', 'reportedDate': '1998-01-14', 'reportedEPS': '0.01', 'estimatedEPS': '0.01', 'surprise': '0', 'surprisePercentage': '0', 'reportTime': 'pre-market'}, {'fiscalDateEnding': '1997-09-30', 'reportedDate': '1997-10-15', 'reportedEPS': '-0.0114', 'estimatedEPS': 'None', 'surprise': '0', 'surprisePercentage': 'None', 'reportTime': 'pre-market'}, {'fiscalDateEnding': '1997-06-30', 'reportedDate': '1997-07-16', 'reportedEPS': '-0.02', 'estimatedEPS': '-0.02', 'surprise': '0', 'surprisePercentage': '0', 'reportTime': 'pre-market'}, {'fiscalDateEnding': '1997-03-31', 'reportedDate': '1997-04-16', 'reportedEPS': '-0.05', 'estimatedEPS': '-0.04', 'surprise': '-0.01', 'surprisePercentage': '-25', 'reportTime': 'pre-market'}, {'fiscalDateEnding': '1996-12-31', 'reportedDate': '1997-01-15', 'reportedEPS': '-0.03', 'estimatedEPS': '-0.02', 'surprise': '-0.01', 'surprisePercentage': '-50', 'reportTime': 'pre-market'}, {'fiscalDateEnding': '1996-09-30', 'reportedDate': '1996-10-16', 'reportedEPS': '0.0018', 'estimatedEPS': '-0.01', 'surprise': '0.0118', 'surprisePercentage': '118', 'reportTime': 'pre-market'}, {'fiscalDateEnding': '1996-06-30', 'reportedDate': '1996-07-17', 'reportedEPS': '-0.02', 'estimatedEPS': '-0.04', 'surprise': '0.02', 'surprisePercentage': '50', 'reportTime': 'pre-market'}, {'fiscalDateEnding': '1996-03-31', 'reportedDate': '1996-04-17', 'reportedEPS': '-0.07', 'estimatedEPS': '-0.05', 'surprise': '-0.02', 'surprisePercentage': '-40', 'reportTime': 'pre-market'}]}\n"
          ]
        }
      ]
    },
    {
      "cell_type": "code",
      "source": [
        "url2 = f\"https://www.alphavantage.co/query?function=TIME_SERIES_DAILY_ADJUSTED&symbol={symbol}&outputsize=full&apikey={api_key}\"\n",
        "response = requests.get(url2)\n",
        "data_time_series = response.json()\n",
        "print(data_time_series)"
      ],
      "metadata": {
        "id": "eR-BfohwiNC4",
        "colab": {
          "base_uri": "https://localhost:8080/"
        },
        "outputId": "8175922d-5bd1-44a4-cad7-e8533c9eca18"
      },
      "execution_count": 3,
      "outputs": [
        {
          "output_type": "stream",
          "name": "stdout",
          "text": [
            "{'Information': 'Thank you for using Alpha Vantage! This is a premium endpoint. You may subscribe to any of the premium plans at https://www.alphavantage.co/premium/ to instantly unlock all premium endpoints'}\n"
          ]
        }
      ]
    },
    {
      "cell_type": "code",
      "source": [
        "# --- Extract and clean the 8 most recent quarterly reports ---\n",
        "quarterly = data['quarterlyEarnings'][:8]\n",
        "\n",
        "df_eps = pd.DataFrame(quarterly)\n",
        "df_eps = df_eps.rename(columns={\n",
        "    'fiscalDateEnding': 'Quarter_End',\n",
        "    'reportedDate': 'Earnings_Date',\n",
        "    'reportedEPS': 'EPS_Actual',\n",
        "    'estimatedEPS': 'EPS_Estimate',\n",
        "    'surprise': 'EPS_Surprise',\n",
        "    'surprisePercentage': 'Surprise_Pct'\n",
        "})\n",
        "\n",
        "# --- Convert types ---\n",
        "df_eps['Quarter_End'] = pd.to_datetime(df_eps['Quarter_End'])\n",
        "df_eps['Earnings_Date'] = pd.to_datetime(df_eps['Earnings_Date'])\n",
        "df_eps['EPS_Actual'] = pd.to_numeric(df_eps['EPS_Actual'], errors='coerce')\n",
        "df_eps['EPS_Estimate'] = pd.to_numeric(df_eps['EPS_Estimate'], errors='coerce')\n",
        "df_eps['EPS_Surprise'] = pd.to_numeric(df_eps['EPS_Surprise'], errors='coerce')\n",
        "df_eps['Surprise_Pct'] = pd.to_numeric(df_eps['Surprise_Pct'], errors='coerce') / 100  # convert to decimal\n",
        "\n",
        "# --- Final clean DataFrame ---\n",
        "df_eps = df_eps[['Earnings_Date', 'EPS_Actual', 'EPS_Estimate', 'EPS_Surprise', 'Surprise_Pct']]\n",
        "print(df_eps)"
      ],
      "metadata": {
        "colab": {
          "base_uri": "https://localhost:8080/"
        },
        "id": "ID9ZXBf9dTEg",
        "outputId": "72f8fc15-643c-417b-8bbe-53d574053e5e"
      },
      "execution_count": null,
      "outputs": [
        {
          "output_type": "stream",
          "name": "stdout",
          "text": [
            "  Earnings_Date  EPS_Actual  EPS_Estimate  EPS_Surprise  Surprise_Pct\n",
            "0    2025-05-02        1.65          1.63          0.02      0.012270\n",
            "1    2025-01-31        2.40          2.35          0.05      0.021277\n",
            "2    2024-11-01        0.97          1.60         -0.63     -0.393750\n",
            "3    2024-08-02        1.40          1.35          0.05      0.037037\n",
            "4    2024-05-03        1.53          1.50          0.03      0.020000\n",
            "5    2024-02-02        2.18          2.10          0.08      0.038095\n",
            "6    2023-11-03        1.46          1.39          0.07      0.050360\n",
            "7    2023-08-04        1.26          1.19          0.07      0.058824\n"
          ]
        }
      ]
    },
    {
      "cell_type": "code",
      "source": [
        "# --- Parse daily price time series ---\n",
        "if \"Time Series (Daily)\" not in data_time_series:\n",
        "    print(\"Error: Alpha Vantage did not return price data.\")\n",
        "else:\n",
        "    ts = data_time_series[\"Time Series (Daily)\"]\n",
        "    df_price = pd.DataFrame.from_dict(ts, orient=\"index\")\n",
        "    df_price.index = pd.to_datetime(df_price.index)\n",
        "    df_price = df_price.sort_index()\n",
        "    df_price = df_price.rename(columns={\"4. close\": \"Close\"})\n",
        "    df_price[\"Close\"] = df_price[\"Close\"].astype(float)"
      ],
      "metadata": {
        "colab": {
          "base_uri": "https://localhost:8080/"
        },
        "id": "gbjlsQhYgQbv",
        "outputId": "a9708e3e-40d0-4f55-888e-07f8bdae0c1b"
      },
      "execution_count": null,
      "outputs": [
        {
          "output_type": "stream",
          "name": "stdout",
          "text": [
            "Error: Alpha Vantage did not return price data.\n"
          ]
        }
      ]
    },
    {
      "cell_type": "code",
      "source": [
        "results = []\n",
        "\n",
        "for _, row in df_eps.iterrows():\n",
        "    report_date = row['Earnings_Date']\n",
        "\n",
        "    # Find actual trading day on/after earnings\n",
        "    future = df_price[df_price.index >= report_date]\n",
        "    if future.empty:\n",
        "        continue\n",
        "    actual_date = future.index[0]\n",
        "\n",
        "    try:\n",
        "        price_before = df_price.loc[actual_date]['Close']\n",
        "        price_d1 = df_price.loc[actual_date + timedelta(days=1):].iloc[0]['Close']\n",
        "        price_d5 = df_price.loc[actual_date + timedelta(days=1):].iloc[4]['Close']\n",
        "        price_d10 = df_price.loc[actual_date + timedelta(days=1):].iloc[9]['Close']\n",
        "    except IndexError:\n",
        "        continue  # skip if not enough forward data\n",
        "\n",
        "    results.append({\n",
        "        \"Earnings_Date\": actual_date.date(),\n",
        "        \"EPS_Actual\": row['EPS_Actual'],\n",
        "        \"EPS_Estimate\": row['EPS_Estimate'],\n",
        "        \"EPS_Surprise\": row['EPS_Surprise'],\n",
        "        \"Surprise_Pct\": row['Surprise_Pct'],\n",
        "        \"Price_Before\": price_before,\n",
        "        \"Price_D1\": price_d1,\n",
        "        \"Price_D5\": price_d5,\n",
        "        \"Price_D10\": price_d10,\n",
        "        \"Return_D1\": (price_d1 - price_before) / price_before,\n",
        "        \"Return_D5\": (price_d5 - price_before) / price_before,\n",
        "        \"Return_D10\": (price_d10 - price_before) / price_before\n",
        "    })\n",
        "\n",
        "final_df = pd.DataFrame(results)\n",
        "print(final_df)\n"
      ],
      "metadata": {
        "colab": {
          "base_uri": "https://localhost:8080/",
          "height": 211
        },
        "id": "gPFieUdnw0tc",
        "outputId": "faf1a241-fb9e-4f6c-bd19-87ad92825359"
      },
      "execution_count": null,
      "outputs": [
        {
          "output_type": "error",
          "ename": "NameError",
          "evalue": "name 'df_price' is not defined",
          "traceback": [
            "\u001b[0;31m---------------------------------------------------------------------------\u001b[0m",
            "\u001b[0;31mNameError\u001b[0m                                 Traceback (most recent call last)",
            "\u001b[0;32m<ipython-input-8-3960717308>\u001b[0m in \u001b[0;36m<cell line: 0>\u001b[0;34m()\u001b[0m\n\u001b[1;32m      5\u001b[0m \u001b[0;34m\u001b[0m\u001b[0m\n\u001b[1;32m      6\u001b[0m     \u001b[0;31m# Find actual trading day on/after earnings\u001b[0m\u001b[0;34m\u001b[0m\u001b[0;34m\u001b[0m\u001b[0m\n\u001b[0;32m----> 7\u001b[0;31m     \u001b[0mfuture\u001b[0m \u001b[0;34m=\u001b[0m \u001b[0mdf_price\u001b[0m\u001b[0;34m[\u001b[0m\u001b[0mdf_price\u001b[0m\u001b[0;34m.\u001b[0m\u001b[0mindex\u001b[0m \u001b[0;34m>=\u001b[0m \u001b[0mreport_date\u001b[0m\u001b[0;34m]\u001b[0m\u001b[0;34m\u001b[0m\u001b[0;34m\u001b[0m\u001b[0m\n\u001b[0m\u001b[1;32m      8\u001b[0m     \u001b[0;32mif\u001b[0m \u001b[0mfuture\u001b[0m\u001b[0;34m.\u001b[0m\u001b[0mempty\u001b[0m\u001b[0;34m:\u001b[0m\u001b[0;34m\u001b[0m\u001b[0;34m\u001b[0m\u001b[0m\n\u001b[1;32m      9\u001b[0m         \u001b[0;32mcontinue\u001b[0m\u001b[0;34m\u001b[0m\u001b[0;34m\u001b[0m\u001b[0m\n",
            "\u001b[0;31mNameError\u001b[0m: name 'df_price' is not defined"
          ]
        }
      ]
    }
  ]
}